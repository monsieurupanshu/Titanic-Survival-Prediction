{
  "metadata": {
    "kernelspec": {
      "language": "python",
      "display_name": "Python 3",
      "name": "python3"
    },
    "language_info": {
      "name": "python",
      "version": "3.10.13",
      "mimetype": "text/x-python",
      "codemirror_mode": {
        "name": "ipython",
        "version": 3
      },
      "pygments_lexer": "ipython3",
      "nbconvert_exporter": "python",
      "file_extension": ".py"
    },
    "kaggle": {
      "accelerator": "none",
      "dataSources": [
        {
          "sourceId": 8160181,
          "sourceType": "datasetVersion",
          "datasetId": 4827709
        }
      ],
      "dockerImageVersionId": 30698,
      "isInternetEnabled": true,
      "language": "python",
      "sourceType": "notebook",
      "isGpuEnabled": false
    },
    "colab": {
      "name": "Titanic Notebook",
      "provenance": []
    }
  },
  "nbformat_minor": 0,
  "nbformat": 4,
  "cells": [
    {
      "source": [
        "\n",
        "# IMPORTANT: RUN THIS CELL IN ORDER TO IMPORT YOUR KAGGLE DATA SOURCES\n",
        "# TO THE CORRECT LOCATION (/kaggle/input) IN YOUR NOTEBOOK,\n",
        "# THEN FEEL FREE TO DELETE THIS CELL.\n",
        "# NOTE: THIS NOTEBOOK ENVIRONMENT DIFFERS FROM KAGGLE'S PYTHON\n",
        "# ENVIRONMENT SO THERE MAY BE MISSING LIBRARIES USED BY YOUR\n",
        "# NOTEBOOK.\n",
        "\n",
        "import os\n",
        "import sys\n",
        "from tempfile import NamedTemporaryFile\n",
        "from urllib.request import urlopen\n",
        "from urllib.parse import unquote, urlparse\n",
        "from urllib.error import HTTPError\n",
        "from zipfile import ZipFile\n",
        "import tarfile\n",
        "import shutil\n",
        "\n",
        "CHUNK_SIZE = 40960\n",
        "DATA_SOURCE_MAPPING = 'traintest:https%3A%2F%2Fstorage.googleapis.com%2Fkaggle-data-sets%2F4827709%2F8160181%2Fbundle%2Farchive.zip%3FX-Goog-Algorithm%3DGOOG4-RSA-SHA256%26X-Goog-Credential%3Dgcp-kaggle-com%2540kaggle-161607.iam.gserviceaccount.com%252F20240513%252Fauto%252Fstorage%252Fgoog4_request%26X-Goog-Date%3D20240513T012616Z%26X-Goog-Expires%3D259200%26X-Goog-SignedHeaders%3Dhost%26X-Goog-Signature%3D14b0f3be50e31303aab19ef50e5a6d23a76b7cd35b7fdeef99d09d9cdbe85460d88c69b40c496577bd9301b85a43b8e50d372f9315468dd34487adaef55b494d6db69cb6517dd02a03d2bff501e299722baf8b67d60403dc4bdc69c7adfcc35b3cdbc9c4cca1cfbcfb30087384bb81d89d245ee4c793ab4d019f20d330ed36c6377d07a464b3fa5b4dea7e28d51968edf3c372a47f4686ccba0db8768e0a55959b7e23d616190328d9631dd4865c614f63cab86250d54ea2cc0c0ffd5b1e19e3c98904120010838557008c4edb98defb58bb2856fd577b5f232cd10f8fd91f10ad5d20fb25d0b1dff5f6cd00d6505f50680d45114de9586f384801273f1b33b7'\n",
        "\n",
        "KAGGLE_INPUT_PATH='/kaggle/input'\n",
        "KAGGLE_WORKING_PATH='/kaggle/working'\n",
        "KAGGLE_SYMLINK='kaggle'\n",
        "\n",
        "!umount /kaggle/input/ 2> /dev/null\n",
        "shutil.rmtree('/kaggle/input', ignore_errors=True)\n",
        "os.makedirs(KAGGLE_INPUT_PATH, 0o777, exist_ok=True)\n",
        "os.makedirs(KAGGLE_WORKING_PATH, 0o777, exist_ok=True)\n",
        "\n",
        "try:\n",
        "  os.symlink(KAGGLE_INPUT_PATH, os.path.join(\"..\", 'input'), target_is_directory=True)\n",
        "except FileExistsError:\n",
        "  pass\n",
        "try:\n",
        "  os.symlink(KAGGLE_WORKING_PATH, os.path.join(\"..\", 'working'), target_is_directory=True)\n",
        "except FileExistsError:\n",
        "  pass\n",
        "\n",
        "for data_source_mapping in DATA_SOURCE_MAPPING.split(','):\n",
        "    directory, download_url_encoded = data_source_mapping.split(':')\n",
        "    download_url = unquote(download_url_encoded)\n",
        "    filename = urlparse(download_url).path\n",
        "    destination_path = os.path.join(KAGGLE_INPUT_PATH, directory)\n",
        "    try:\n",
        "        with urlopen(download_url) as fileres, NamedTemporaryFile() as tfile:\n",
        "            total_length = fileres.headers['content-length']\n",
        "            print(f'Downloading {directory}, {total_length} bytes compressed')\n",
        "            dl = 0\n",
        "            data = fileres.read(CHUNK_SIZE)\n",
        "            while len(data) > 0:\n",
        "                dl += len(data)\n",
        "                tfile.write(data)\n",
        "                done = int(50 * dl / int(total_length))\n",
        "                sys.stdout.write(f\"\\r[{'=' * done}{' ' * (50-done)}] {dl} bytes downloaded\")\n",
        "                sys.stdout.flush()\n",
        "                data = fileres.read(CHUNK_SIZE)\n",
        "            if filename.endswith('.zip'):\n",
        "              with ZipFile(tfile) as zfile:\n",
        "                zfile.extractall(destination_path)\n",
        "            else:\n",
        "              with tarfile.open(tfile.name) as tarfile:\n",
        "                tarfile.extractall(destination_path)\n",
        "            print(f'\\nDownloaded and uncompressed: {directory}')\n",
        "    except HTTPError as e:\n",
        "        print(f'Failed to load (likely expired) {download_url} to path {destination_path}')\n",
        "        continue\n",
        "    except OSError as e:\n",
        "        print(f'Failed to load {download_url} to path {destination_path}')\n",
        "        continue\n",
        "\n",
        "print('Data source import complete.')\n"
      ],
      "metadata": {
        "id": "Aewfn2UAjsVZ"
      },
      "cell_type": "code",
      "outputs": [],
      "execution_count": null
    },
    {
      "cell_type": "code",
      "source": [
        "# This Python 3 environment comes with many helpful analytics libraries installed\n",
        "# It is defined by the kaggle/python Docker image: https://github.com/kaggle/docker-python\n",
        "# For example, here's several helpful packages to load\n",
        "\n",
        "import numpy as np # linear algebra\n",
        "import pandas as pd # data processing, CSV file I/O (e.g. pd.read_csv)\n",
        "\n",
        "# Input data files are available in the read-only \"../input/\" directory\n",
        "# For example, running this (by clicking run or pressing Shift+Enter) will list all files under the input directory\n",
        "\n",
        "import os\n",
        "for dirname, _, filenames in os.walk('/kaggle/input'):\n",
        "    for filename in filenames:\n",
        "        print(os.path.join(dirname, filename))\n",
        "\n",
        "# You can write up to 20GB to the current directory (/kaggle/working/) that gets preserved as output when you create a version using \"Save & Run All\"\n",
        "# You can also write temporary files to /kaggle/temp/, but they won't be saved outside of the current session"
      ],
      "metadata": {
        "_uuid": "8f2839f25d086af736a60e9eeb907d3b93b6e0e5",
        "_cell_guid": "b1076dfc-b9ad-4769-8c92-a6c4dae69d19",
        "execution": {
          "iopub.status.busy": "2024-05-12T22:02:45.645868Z",
          "iopub.execute_input": "2024-05-12T22:02:45.646873Z",
          "iopub.status.idle": "2024-05-12T22:02:46.991594Z",
          "shell.execute_reply.started": "2024-05-12T22:02:45.646825Z",
          "shell.execute_reply": "2024-05-12T22:02:46.989772Z"
        },
        "trusted": true,
        "id": "zRPZq_EAjsVc",
        "outputId": "a639a598-6c72-4e61-f8f5-915862242bd3"
      },
      "execution_count": null,
      "outputs": [
        {
          "name": "stdout",
          "text": "/kaggle/input/traintest/train.csv\n/kaggle/input/traintest/test.csv\n",
          "output_type": "stream"
        }
      ]
    },
    {
      "cell_type": "code",
      "source": [
        "from sklearn.preprocessing import LabelEncoder\n",
        "from xgboost import XGBClassifier\n",
        "from lightgbm import LGBMClassifier\n",
        "from sklearn.metrics import accuracy_score\n",
        "from sklearn.impute import SimpleImputer"
      ],
      "metadata": {
        "execution": {
          "iopub.status.busy": "2024-05-12T22:02:46.995171Z",
          "iopub.execute_input": "2024-05-12T22:02:46.995858Z",
          "iopub.status.idle": "2024-05-12T22:02:50.717652Z",
          "shell.execute_reply.started": "2024-05-12T22:02:46.995812Z",
          "shell.execute_reply": "2024-05-12T22:02:50.716276Z"
        },
        "trusted": true,
        "id": "jewVw7jpjsVe"
      },
      "execution_count": null,
      "outputs": []
    },
    {
      "cell_type": "code",
      "source": [
        "train_df = pd.read_csv('/kaggle/input/traintest/train.csv')\n",
        "test_df = pd.read_csv('/kaggle/input/traintest/test.csv')"
      ],
      "metadata": {
        "execution": {
          "iopub.status.busy": "2024-05-12T22:02:50.719425Z",
          "iopub.execute_input": "2024-05-12T22:02:50.720239Z",
          "iopub.status.idle": "2024-05-12T22:02:50.752534Z",
          "shell.execute_reply.started": "2024-05-12T22:02:50.720181Z",
          "shell.execute_reply": "2024-05-12T22:02:50.751105Z"
        },
        "trusted": true,
        "id": "-3QNOvASjsVe"
      },
      "execution_count": null,
      "outputs": []
    },
    {
      "cell_type": "code",
      "source": [
        "print(train_df.dtypes)\n",
        "print(test_df.dtypes)"
      ],
      "metadata": {
        "execution": {
          "iopub.status.busy": "2024-05-12T22:02:50.75592Z",
          "iopub.execute_input": "2024-05-12T22:02:50.757246Z",
          "iopub.status.idle": "2024-05-12T22:02:50.767496Z",
          "shell.execute_reply.started": "2024-05-12T22:02:50.757207Z",
          "shell.execute_reply": "2024-05-12T22:02:50.766224Z"
        },
        "trusted": true,
        "id": "trb9f5MijsVf",
        "outputId": "2699f10e-8e17-4b8c-8abf-2ce82f467a6a"
      },
      "execution_count": null,
      "outputs": [
        {
          "name": "stdout",
          "text": "PassengerId      int64\nSurvived         int64\nPclass           int64\nName            object\nSex             object\nAge            float64\nSibSp            int64\nParch            int64\nTicket          object\nFare           float64\nCabin           object\nEmbarked        object\ndtype: object\nPassengerId      int64\nPclass           int64\nName            object\nSex             object\nAge            float64\nSibSp            int64\nParch            int64\nTicket          object\nFare           float64\nCabin           object\nEmbarked        object\ndtype: object\n",
          "output_type": "stream"
        }
      ]
    },
    {
      "cell_type": "code",
      "source": [
        "def preprocess_data(df):\n",
        "    df['Age'] = df['Age'].fillna(df['Age'].median())\n",
        "    df['Fare'] = df['Fare'].fillna(df['Fare'].median())\n",
        "    df['Embarked'] = df['Embarked'].fillna(df['Embarked'].mode()[0])\n",
        "\n",
        "    df['Family_Size'] = df['SibSp'] + df['Parch'] + 1\n",
        "    df['Is_Alone'] = (df['Family_Size'] == 1).astype(int)\n",
        "\n",
        "    label_encoder = LabelEncoder()\n",
        "    df['Sex'] = label_encoder.fit_transform(df['Sex'])\n",
        "    df['Embarked'] = label_encoder.fit_transform(df['Embarked'])\n",
        "\n",
        "    features = df[['Pclass', 'Sex', 'Age', 'Fare', 'Embarked', 'Family_Size', 'Is_Alone']]\n",
        "    return features"
      ],
      "metadata": {
        "execution": {
          "iopub.status.busy": "2024-05-12T22:02:50.769232Z",
          "iopub.execute_input": "2024-05-12T22:02:50.769631Z",
          "iopub.status.idle": "2024-05-12T22:02:50.781166Z",
          "shell.execute_reply.started": "2024-05-12T22:02:50.769599Z",
          "shell.execute_reply": "2024-05-12T22:02:50.779661Z"
        },
        "trusted": true,
        "id": "PxV7JTc3jsVf"
      },
      "execution_count": null,
      "outputs": []
    },
    {
      "cell_type": "code",
      "source": [
        "def evaluate_model(y_true, y_pred, y_prob=None):\n",
        "    metrics = {\n",
        "        'Accuracy': accuracy_score(y_true, y_pred),\n",
        "        'Precision': precision_score(y_true, y_pred),\n",
        "        'Recall': recall_score(y_true, y_pred),\n",
        "        'F1 Score': f1_score(y_true, y_pred)\n",
        "    }\n",
        "    if y_prob is not None:\n",
        "        metrics['AUC-ROC'] = roc_auc_score(y_true, y_prob)\n",
        "    return metrics"
      ],
      "metadata": {
        "execution": {
          "iopub.status.busy": "2024-05-12T22:02:50.783228Z",
          "iopub.execute_input": "2024-05-12T22:02:50.783698Z",
          "iopub.status.idle": "2024-05-12T22:02:50.796693Z",
          "shell.execute_reply.started": "2024-05-12T22:02:50.783664Z",
          "shell.execute_reply": "2024-05-12T22:02:50.795265Z"
        },
        "trusted": true,
        "id": "PBIaYGBrjsVf"
      },
      "execution_count": null,
      "outputs": []
    },
    {
      "cell_type": "code",
      "source": [
        "from sklearn.model_selection import train_test_split"
      ],
      "metadata": {
        "execution": {
          "iopub.status.busy": "2024-05-12T22:02:50.798318Z",
          "iopub.execute_input": "2024-05-12T22:02:50.798783Z",
          "iopub.status.idle": "2024-05-12T22:02:50.816028Z",
          "shell.execute_reply.started": "2024-05-12T22:02:50.798742Z",
          "shell.execute_reply": "2024-05-12T22:02:50.814438Z"
        },
        "trusted": true,
        "id": "Xhsa_NRfjsVg"
      },
      "execution_count": null,
      "outputs": []
    },
    {
      "cell_type": "code",
      "source": [],
      "metadata": {
        "id": "_Nj_R1aNjsVg"
      },
      "execution_count": null,
      "outputs": []
    },
    {
      "cell_type": "code",
      "source": [
        "train_df, val_df = train_test_split(train_df, test_size=0.2, random_state=42)"
      ],
      "metadata": {
        "execution": {
          "iopub.status.busy": "2024-05-12T22:02:50.817572Z",
          "iopub.execute_input": "2024-05-12T22:02:50.818403Z",
          "iopub.status.idle": "2024-05-12T22:02:50.844377Z",
          "shell.execute_reply.started": "2024-05-12T22:02:50.81836Z",
          "shell.execute_reply": "2024-05-12T22:02:50.842304Z"
        },
        "trusted": true,
        "id": "JIHs8yisjsVh"
      },
      "execution_count": null,
      "outputs": []
    },
    {
      "cell_type": "code",
      "source": [
        "X_train = preprocess_data(train_df)\n",
        "y_train = train_df['Survived']\n",
        "X_val = preprocess_data(val_df)\n",
        "y_val = val_df['Survived']\n"
      ],
      "metadata": {
        "execution": {
          "iopub.status.busy": "2024-05-12T22:02:50.846217Z",
          "iopub.execute_input": "2024-05-12T22:02:50.846698Z",
          "iopub.status.idle": "2024-05-12T22:02:50.876044Z",
          "shell.execute_reply.started": "2024-05-12T22:02:50.846656Z",
          "shell.execute_reply": "2024-05-12T22:02:50.874746Z"
        },
        "trusted": true,
        "id": "O2enH11MjsVh"
      },
      "execution_count": null,
      "outputs": []
    },
    {
      "cell_type": "code",
      "source": [
        "print(\"Data types of processed training data:\")\n",
        "print(X_train.dtypes)"
      ],
      "metadata": {
        "execution": {
          "iopub.status.busy": "2024-05-12T22:02:50.878382Z",
          "iopub.execute_input": "2024-05-12T22:02:50.878912Z",
          "iopub.status.idle": "2024-05-12T22:02:50.889396Z",
          "shell.execute_reply.started": "2024-05-12T22:02:50.878866Z",
          "shell.execute_reply": "2024-05-12T22:02:50.887326Z"
        },
        "trusted": true,
        "id": "FKjBNDSsjsVh",
        "outputId": "9101c2c6-c247-49c9-8c0e-cf940084a3bb"
      },
      "execution_count": null,
      "outputs": [
        {
          "name": "stdout",
          "text": "Data types of processed training data:\nPclass           int64\nSex              int64\nAge            float64\nFare           float64\nEmbarked         int64\nFamily_Size      int64\nIs_Alone         int64\ndtype: object\n",
          "output_type": "stream"
        }
      ]
    },
    {
      "cell_type": "code",
      "source": [
        "xgb_model = XGBClassifier(use_label_encoder=False, eval_metric='logloss')\n",
        "xgb_model.fit(X_train, y_train)\n",
        "xgb_pred = xgb_model.predict(X_val)\n",
        "xgb_prob = xgb_model.predict_proba(X_val)[:, 1]"
      ],
      "metadata": {
        "execution": {
          "iopub.status.busy": "2024-05-12T22:02:50.89547Z",
          "iopub.execute_input": "2024-05-12T22:02:50.896648Z",
          "iopub.status.idle": "2024-05-12T22:02:51.195388Z",
          "shell.execute_reply.started": "2024-05-12T22:02:50.896605Z",
          "shell.execute_reply": "2024-05-12T22:02:51.194278Z"
        },
        "trusted": true,
        "id": "AzTmPfFjjsVi"
      },
      "execution_count": null,
      "outputs": []
    },
    {
      "cell_type": "code",
      "source": [
        "lgb_model = LGBMClassifier()\n",
        "lgb_model.fit(X_train, y_train)\n",
        "lgb_pred = lgb_model.predict(X_val)\n",
        "lgb_prob = lgb_model.predict_proba(X_val)[:, 1]"
      ],
      "metadata": {
        "execution": {
          "iopub.status.busy": "2024-05-12T22:02:51.197304Z",
          "iopub.execute_input": "2024-05-12T22:02:51.198486Z",
          "iopub.status.idle": "2024-05-12T22:02:51.659692Z",
          "shell.execute_reply.started": "2024-05-12T22:02:51.198433Z",
          "shell.execute_reply": "2024-05-12T22:02:51.658152Z"
        },
        "trusted": true,
        "id": "XvgS6J2yjsVi",
        "outputId": "3d03d6b3-fbbb-4a3f-d61f-22911e204695"
      },
      "execution_count": null,
      "outputs": [
        {
          "name": "stdout",
          "text": "[LightGBM] [Info] Number of positive: 268, number of negative: 444\n[LightGBM] [Info] Auto-choosing row-wise multi-threading, the overhead of testing was 0.003939 seconds.\nYou can set `force_row_wise=true` to remove the overhead.\nAnd if memory is not enough, you can set `force_col_wise=true`.\n[LightGBM] [Info] Total Bins 192\n[LightGBM] [Info] Number of data points in the train set: 712, number of used features: 7\n[LightGBM] [Info] [binary:BoostFromScore]: pavg=0.376404 -> initscore=-0.504838\n[LightGBM] [Info] Start training from score -0.504838\n[LightGBM] [Warning] No further splits with positive gain, best gain: -inf\n[LightGBM] [Warning] No further splits with positive gain, best gain: -inf\n[LightGBM] [Warning] No further splits with positive gain, best gain: -inf\n[LightGBM] [Warning] No further splits with positive gain, best gain: -inf\n[LightGBM] [Warning] No further splits with positive gain, best gain: -inf\n[LightGBM] [Warning] No further splits with positive gain, best gain: -inf\n[LightGBM] [Warning] No further splits with positive gain, best gain: -inf\n[LightGBM] [Warning] No further splits with positive gain, best gain: -inf\n[LightGBM] [Warning] No further splits with positive gain, best gain: -inf\n[LightGBM] [Warning] No further splits with positive gain, best gain: -inf\n[LightGBM] [Warning] No further splits with positive gain, best gain: -inf\n[LightGBM] [Warning] No further splits with positive gain, best gain: -inf\n[LightGBM] [Warning] No further splits with positive gain, best gain: -inf\n[LightGBM] [Warning] No further splits with positive gain, best gain: -inf\n[LightGBM] [Warning] No further splits with positive gain, best gain: -inf\n[LightGBM] [Warning] No further splits with positive gain, best gain: -inf\n[LightGBM] [Warning] No further splits with positive gain, best gain: -inf\n[LightGBM] [Warning] No further splits with positive gain, best gain: -inf\n[LightGBM] [Warning] No further splits with positive gain, best gain: -inf\n[LightGBM] [Warning] No further splits with positive gain, best gain: -inf\n[LightGBM] [Warning] No further splits with positive gain, best gain: -inf\n[LightGBM] [Warning] No further splits with positive gain, best gain: -inf\n[LightGBM] [Warning] No further splits with positive gain, best gain: -inf\n[LightGBM] [Warning] No further splits with positive gain, best gain: -inf\n[LightGBM] [Warning] No further splits with positive gain, best gain: -inf\n[LightGBM] [Warning] No further splits with positive gain, best gain: -inf\n[LightGBM] [Warning] No further splits with positive gain, best gain: -inf\n[LightGBM] [Warning] No further splits with positive gain, best gain: -inf\n[LightGBM] [Warning] No further splits with positive gain, best gain: -inf\n[LightGBM] [Warning] No further splits with positive gain, best gain: -inf\n[LightGBM] [Warning] No further splits with positive gain, best gain: -inf\n[LightGBM] [Warning] No further splits with positive gain, best gain: -inf\n[LightGBM] [Warning] No further splits with positive gain, best gain: -inf\n[LightGBM] [Warning] No further splits with positive gain, best gain: -inf\n[LightGBM] [Warning] No further splits with positive gain, best gain: -inf\n[LightGBM] [Warning] No further splits with positive gain, best gain: -inf\n[LightGBM] [Warning] No further splits with positive gain, best gain: -inf\n[LightGBM] [Warning] No further splits with positive gain, best gain: -inf\n[LightGBM] [Warning] No further splits with positive gain, best gain: -inf\n[LightGBM] [Warning] No further splits with positive gain, best gain: -inf\n[LightGBM] [Warning] No further splits with positive gain, best gain: -inf\n[LightGBM] [Warning] No further splits with positive gain, best gain: -inf\n[LightGBM] [Warning] No further splits with positive gain, best gain: -inf\n[LightGBM] [Warning] No further splits with positive gain, best gain: -inf\n[LightGBM] [Warning] No further splits with positive gain, best gain: -inf\n[LightGBM] [Warning] No further splits with positive gain, best gain: -inf\n[LightGBM] [Warning] No further splits with positive gain, best gain: -inf\n[LightGBM] [Warning] No further splits with positive gain, best gain: -inf\n[LightGBM] [Warning] No further splits with positive gain, best gain: -inf\n[LightGBM] [Warning] No further splits with positive gain, best gain: -inf\n[LightGBM] [Warning] No further splits with positive gain, best gain: -inf\n[LightGBM] [Warning] No further splits with positive gain, best gain: -inf\n[LightGBM] [Warning] No further splits with positive gain, best gain: -inf\n[LightGBM] [Warning] No further splits with positive gain, best gain: -inf\n[LightGBM] [Warning] No further splits with positive gain, best gain: -inf\n[LightGBM] [Warning] No further splits with positive gain, best gain: -inf\n[LightGBM] [Warning] No further splits with positive gain, best gain: -inf\n[LightGBM] [Warning] No further splits with positive gain, best gain: -inf\n[LightGBM] [Warning] No further splits with positive gain, best gain: -inf\n[LightGBM] [Warning] No further splits with positive gain, best gain: -inf\n[LightGBM] [Warning] No further splits with positive gain, best gain: -inf\n[LightGBM] [Warning] No further splits with positive gain, best gain: -inf\n[LightGBM] [Warning] No further splits with positive gain, best gain: -inf\n[LightGBM] [Warning] No further splits with positive gain, best gain: -inf\n[LightGBM] [Warning] No further splits with positive gain, best gain: -inf\n[LightGBM] [Warning] No further splits with positive gain, best gain: -inf\n[LightGBM] [Warning] No further splits with positive gain, best gain: -inf\n[LightGBM] [Warning] No further splits with positive gain, best gain: -inf\n[LightGBM] [Warning] No further splits with positive gain, best gain: -inf\n[LightGBM] [Warning] No further splits with positive gain, best gain: -inf\n[LightGBM] [Warning] No further splits with positive gain, best gain: -inf\n[LightGBM] [Warning] No further splits with positive gain, best gain: -inf\n[LightGBM] [Warning] No further splits with positive gain, best gain: -inf\n[LightGBM] [Warning] No further splits with positive gain, best gain: -inf\n[LightGBM] [Warning] No further splits with positive gain, best gain: -inf\n[LightGBM] [Warning] No further splits with positive gain, best gain: -inf\n[LightGBM] [Warning] No further splits with positive gain, best gain: -inf\n[LightGBM] [Warning] No further splits with positive gain, best gain: -inf\n[LightGBM] [Warning] No further splits with positive gain, best gain: -inf\n[LightGBM] [Warning] No further splits with positive gain, best gain: -inf\n[LightGBM] [Warning] No further splits with positive gain, best gain: -inf\n[LightGBM] [Warning] No further splits with positive gain, best gain: -inf\n[LightGBM] [Warning] No further splits with positive gain, best gain: -inf\n[LightGBM] [Warning] No further splits with positive gain, best gain: -inf\n[LightGBM] [Warning] No further splits with positive gain, best gain: -inf\n[LightGBM] [Warning] No further splits with positive gain, best gain: -inf\n[LightGBM] [Warning] No further splits with positive gain, best gain: -inf\n[LightGBM] [Warning] No further splits with positive gain, best gain: -inf\n[LightGBM] [Warning] No further splits with positive gain, best gain: -inf\n[LightGBM] [Warning] No further splits with positive gain, best gain: -inf\n[LightGBM] [Warning] No further splits with positive gain, best gain: -inf\n[LightGBM] [Warning] No further splits with positive gain, best gain: -inf\n[LightGBM] [Warning] No further splits with positive gain, best gain: -inf\n[LightGBM] [Warning] No further splits with positive gain, best gain: -inf\n[LightGBM] [Warning] No further splits with positive gain, best gain: -inf\n[LightGBM] [Warning] No further splits with positive gain, best gain: -inf\n",
          "output_type": "stream"
        }
      ]
    },
    {
      "cell_type": "code",
      "source": [
        "print(\"First few predictions by XGBoost:\", xgb_pred[:5])\n",
        "print(\"First few predictions by LightGBM:\", lgb_pred[:5])"
      ],
      "metadata": {
        "execution": {
          "iopub.status.busy": "2024-05-12T22:03:37.264874Z",
          "iopub.execute_input": "2024-05-12T22:03:37.266218Z",
          "iopub.status.idle": "2024-05-12T22:03:37.274869Z",
          "shell.execute_reply.started": "2024-05-12T22:03:37.266166Z",
          "shell.execute_reply": "2024-05-12T22:03:37.273075Z"
        },
        "trusted": true,
        "id": "fOmvUWhzjsVi",
        "outputId": "956cd4fc-cb7b-42c4-eed1-e0ac219f2388"
      },
      "execution_count": null,
      "outputs": [
        {
          "name": "stdout",
          "text": "First few predictions by XGBoost: [0 0 1 1 1]\nFirst few predictions by LightGBM: [0 0 0 1 1]\n",
          "output_type": "stream"
        }
      ]
    },
    {
      "cell_type": "code",
      "source": [
        "from sklearn.metrics import accuracy_score, precision_score, recall_score, f1_score, roc_auc_score"
      ],
      "metadata": {
        "execution": {
          "iopub.status.busy": "2024-05-12T22:03:47.527584Z",
          "iopub.execute_input": "2024-05-12T22:03:47.528013Z",
          "iopub.status.idle": "2024-05-12T22:03:47.534939Z",
          "shell.execute_reply.started": "2024-05-12T22:03:47.527956Z",
          "shell.execute_reply": "2024-05-12T22:03:47.533052Z"
        },
        "trusted": true,
        "id": "Vez8QCFOjsVi"
      },
      "execution_count": null,
      "outputs": []
    },
    {
      "cell_type": "code",
      "source": [
        "pip install xgboost lightgbm scikit-learn pandas"
      ],
      "metadata": {
        "execution": {
          "iopub.status.busy": "2024-05-12T22:03:50.007908Z",
          "iopub.execute_input": "2024-05-12T22:03:50.00834Z",
          "iopub.status.idle": "2024-05-12T22:04:07.631444Z",
          "shell.execute_reply.started": "2024-05-12T22:03:50.008309Z",
          "shell.execute_reply": "2024-05-12T22:04:07.628653Z"
        },
        "trusted": true,
        "id": "WxhioX53jsVi",
        "outputId": "b6800512-ffd4-4ddb-9017-c0b3b7c3f9da"
      },
      "execution_count": null,
      "outputs": [
        {
          "name": "stdout",
          "text": "Requirement already satisfied: xgboost in /opt/conda/lib/python3.10/site-packages (2.0.3)\nRequirement already satisfied: lightgbm in /opt/conda/lib/python3.10/site-packages (4.2.0)\nRequirement already satisfied: scikit-learn in /opt/conda/lib/python3.10/site-packages (1.2.2)\nRequirement already satisfied: pandas in /opt/conda/lib/python3.10/site-packages (2.2.2)\nRequirement already satisfied: numpy in /opt/conda/lib/python3.10/site-packages (from xgboost) (1.26.4)\nRequirement already satisfied: scipy in /opt/conda/lib/python3.10/site-packages (from xgboost) (1.11.4)\nRequirement already satisfied: joblib>=1.1.1 in /opt/conda/lib/python3.10/site-packages (from scikit-learn) (1.4.0)\nRequirement already satisfied: threadpoolctl>=2.0.0 in /opt/conda/lib/python3.10/site-packages (from scikit-learn) (3.2.0)\nRequirement already satisfied: python-dateutil>=2.8.2 in /opt/conda/lib/python3.10/site-packages (from pandas) (2.9.0.post0)\nRequirement already satisfied: pytz>=2020.1 in /opt/conda/lib/python3.10/site-packages (from pandas) (2023.3.post1)\nRequirement already satisfied: tzdata>=2022.7 in /opt/conda/lib/python3.10/site-packages (from pandas) (2023.4)\nRequirement already satisfied: six>=1.5 in /opt/conda/lib/python3.10/site-packages (from python-dateutil>=2.8.2->pandas) (1.16.0)\nNote: you may need to restart the kernel to use updated packages.\n",
          "output_type": "stream"
        }
      ]
    },
    {
      "cell_type": "code",
      "source": [
        "xgb_metrics = evaluate_model(y_val, xgb_pred, xgb_prob)\n",
        "lgb_metrics = evaluate_model(y_val, lgb_pred, lgb_prob)"
      ],
      "metadata": {
        "execution": {
          "iopub.status.busy": "2024-05-12T22:04:13.536384Z",
          "iopub.execute_input": "2024-05-12T22:04:13.536848Z",
          "iopub.status.idle": "2024-05-12T22:04:13.576321Z",
          "shell.execute_reply.started": "2024-05-12T22:04:13.536809Z",
          "shell.execute_reply": "2024-05-12T22:04:13.574897Z"
        },
        "trusted": true,
        "id": "PxeVJwJhjsVj"
      },
      "execution_count": null,
      "outputs": []
    },
    {
      "cell_type": "code",
      "source": [
        "print(\"XGBoost Model Evaluation:\", xgb_metrics)\n",
        "print(\"LightGBM Model Evaluation:\", lgb_metrics)"
      ],
      "metadata": {
        "execution": {
          "iopub.status.busy": "2024-05-12T22:04:17.471949Z",
          "iopub.execute_input": "2024-05-12T22:04:17.473326Z",
          "iopub.status.idle": "2024-05-12T22:04:17.479425Z",
          "shell.execute_reply.started": "2024-05-12T22:04:17.47328Z",
          "shell.execute_reply": "2024-05-12T22:04:17.478089Z"
        },
        "trusted": true,
        "id": "4UJgMq_QjsVj",
        "outputId": "af2d1c0c-70cb-4f3f-9c90-2c4d2683d254"
      },
      "execution_count": null,
      "outputs": [
        {
          "name": "stdout",
          "text": "XGBoost Model Evaluation: {'Accuracy': 0.770949720670391, 'Precision': 0.7142857142857143, 'Recall': 0.7432432432432432, 'F1 Score': 0.7284768211920529, 'AUC-ROC': 0.8720720720720722}\nLightGBM Model Evaluation: {'Accuracy': 0.8100558659217877, 'Precision': 0.7631578947368421, 'Recall': 0.7837837837837838, 'F1 Score': 0.7733333333333334, 'AUC-ROC': 0.8866151866151867}\n",
          "output_type": "stream"
        }
      ]
    }
  ]
}